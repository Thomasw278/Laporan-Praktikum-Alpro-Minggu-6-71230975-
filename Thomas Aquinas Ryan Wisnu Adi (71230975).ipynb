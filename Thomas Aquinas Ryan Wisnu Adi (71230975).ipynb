{
 "cells": [
  {
   "cell_type": "code",
   "execution_count": null,
   "id": "e7172d53",
   "metadata": {},
   "outputs": [],
   "source": [
    "n = int(input(\"Masukkan Bilangan: \"))\n",
    "prima = n - 1\n",
    "JikaPrima = True\n",
    "while JikaPrima == True:\n",
    "    if prima % 2 == 0 and prima != 2 or prima % 3 == 0 and prima != 3 or prima % 5 == 0 and prima != 5 or prima % 7 == 0 and prima != 7 or prima % 11 == 0 and prima != 11:\n",
    "        prima -= 1\n",
    "    elif prima <= 1:\n",
    "        print(\"Bilangan Prima Pertama Adalah 2\")\n",
    "        prima += 1\n",
    "        break\n",
    "    else:\n",
    "        print(f\"Maka Prima terdekat <{n} adalah {prima} \")\n",
    "        JikaPrima = False\n",
    "        "
   ]
  },
  {
   "cell_type": "code",
   "execution_count": null,
   "id": "e97bd7e1",
   "metadata": {},
   "outputs": [],
   "source": [
    "n = int(input(\"Masukkan nilai n: \"))\n",
    "for i in range(n, 0, -1):\n",
    "    hasil = 1\n",
    "    for j in range(i, 0, -1):\n",
    "        hasil = hasil * j\n",
    "    print(hasil, end=\" \")\n",
    "    for k in range(i, 0, -1):\n",
    "        print(k, end=\" \")\n",
    "    print()"
   ]
  },
  {
   "cell_type": "code",
   "execution_count": null,
   "id": "a7eeb2bd",
   "metadata": {},
   "outputs": [],
   "source": [
    "tinggi = int(input(\"Tinggi: \"))\n",
    "lebar = int(input(\"Lebar: \"))\n",
    "hasil = 1\n",
    "for i in range(1, tinggi + 1):\n",
    "    for j in range(hasil, lebar + hasil):\n",
    "        print(j, \" \", end = \"\")\n",
    "        hasil = j + 1\n",
    "    print()"
   ]
  }
 ],
 "metadata": {
  "kernelspec": {
   "display_name": "Python 3 (ipykernel)",
   "language": "python",
   "name": "python3"
  },
  "language_info": {
   "codemirror_mode": {
    "name": "ipython",
    "version": 3
   },
   "file_extension": ".py",
   "mimetype": "text/x-python",
   "name": "python",
   "nbconvert_exporter": "python",
   "pygments_lexer": "ipython3",
   "version": "3.11.5"
  }
 },
 "nbformat": 4,
 "nbformat_minor": 5
}
